{
 "cells": [
  {
   "cell_type": "markdown",
   "metadata": {},
   "source": [
    "<img style=\"float: right;\" src=\"External%20Causes%20of%20Death2.png\">\n"
   ]
  },
  {
   "cell_type": "code",
   "execution_count": 1,
   "metadata": {},
   "outputs": [],
   "source": [
    "import numpy as np\n",
    "import pandas as pd\n",
    "import pyspark.sql.functions as func\n",
    "from pyspark.sql.types import IntegerType\n",
    "from pyspark.sql import SparkSession"
   ]
  },
  {
   "cell_type": "code",
   "execution_count": 2,
   "metadata": {},
   "outputs": [],
   "source": [
    "spark=SparkSession.builder.master(\"local\").appName(\"externaldeathcauses\").getOrCreate()"
   ]
  },
  {
   "cell_type": "code",
   "execution_count": 3,
   "metadata": {},
   "outputs": [],
   "source": [
    "#por algun motivo, localmente con spark no pude leer todos los archivos de una, con lo cual voy a tener que loopearlos.\n",
    "i=1\n",
    "while i<6:\n",
    "    df_temp = spark.read.csv(f\"data/Morticd10_part{i}.csv\",header=True, inferSchema=True)\n",
    "    df_temp.createOrReplaceTempView(f\"temp{i}\")\n",
    "    i=i+1\n"
   ]
  },
  {
   "cell_type": "code",
   "execution_count": 4,
   "metadata": {},
   "outputs": [],
   "source": [
    "query = \"\"\"\n",
    "    select * from temp1\n",
    "    union all \n",
    "    select * from temp2\n",
    "    union all\n",
    "    select * from temp3\n",
    "    union all\n",
    "    select * from temp4\n",
    "    union all\n",
    "    select * from temp5\n",
    "    \"\"\"\n",
    "\n",
    "df = spark.sql(query)"
   ]
  },
  {
   "cell_type": "code",
   "execution_count": 5,
   "metadata": {},
   "outputs": [
    {
     "data": {
      "text/plain": [
       "4506221"
      ]
     },
     "execution_count": 5,
     "metadata": {},
     "output_type": "execute_result"
    }
   ],
   "source": [
    "df.count()"
   ]
  },
  {
   "cell_type": "code",
   "execution_count": 6,
   "metadata": {},
   "outputs": [
    {
     "name": "stdout",
     "output_type": "stream",
     "text": [
      "root\n",
      " |-- Country: integer (nullable = true)\n",
      " |-- Admin1: string (nullable = true)\n",
      " |-- SubDiv: string (nullable = true)\n",
      " |-- Year: integer (nullable = true)\n",
      " |-- List: string (nullable = true)\n",
      " |-- Cause: string (nullable = true)\n",
      " |-- Sex: integer (nullable = true)\n",
      " |-- Frmat: integer (nullable = true)\n",
      " |-- IM_Frmat: integer (nullable = true)\n",
      " |-- Deaths1: integer (nullable = true)\n",
      " |-- Deaths2: integer (nullable = true)\n",
      " |-- Deaths3: integer (nullable = true)\n",
      " |-- Deaths4: integer (nullable = true)\n",
      " |-- Deaths5: integer (nullable = true)\n",
      " |-- Deaths6: integer (nullable = true)\n",
      " |-- Deaths7: integer (nullable = true)\n",
      " |-- Deaths8: integer (nullable = true)\n",
      " |-- Deaths9: integer (nullable = true)\n",
      " |-- Deaths10: integer (nullable = true)\n",
      " |-- Deaths11: integer (nullable = true)\n",
      " |-- Deaths12: integer (nullable = true)\n",
      " |-- Deaths13: integer (nullable = true)\n",
      " |-- Deaths14: integer (nullable = true)\n",
      " |-- Deaths15: integer (nullable = true)\n",
      " |-- Deaths16: integer (nullable = true)\n",
      " |-- Deaths17: integer (nullable = true)\n",
      " |-- Deaths18: integer (nullable = true)\n",
      " |-- Deaths19: integer (nullable = true)\n",
      " |-- Deaths20: integer (nullable = true)\n",
      " |-- Deaths21: integer (nullable = true)\n",
      " |-- Deaths22: integer (nullable = true)\n",
      " |-- Deaths23: integer (nullable = true)\n",
      " |-- Deaths24: integer (nullable = true)\n",
      " |-- Deaths25: integer (nullable = true)\n",
      " |-- Deaths26: integer (nullable = true)\n",
      " |-- IM_Deaths1: integer (nullable = true)\n",
      " |-- IM_Deaths2: integer (nullable = true)\n",
      " |-- IM_Deaths3: integer (nullable = true)\n",
      " |-- IM_Deaths4: integer (nullable = true)\n",
      "\n"
     ]
    }
   ],
   "source": [
    "df.printSchema()"
   ]
  },
  {
   "cell_type": "code",
   "execution_count": 7,
   "metadata": {},
   "outputs": [
    {
     "data": {
      "text/plain": [
       "['Country',\n",
       " 'Admin1',\n",
       " 'SubDiv',\n",
       " 'Year',\n",
       " 'List',\n",
       " 'Cause',\n",
       " 'Sex',\n",
       " 'Frmat',\n",
       " 'IM_Frmat',\n",
       " 'Deaths1',\n",
       " 'Deaths2',\n",
       " 'Deaths3',\n",
       " 'Deaths4',\n",
       " 'Deaths5',\n",
       " 'Deaths6',\n",
       " 'Deaths7',\n",
       " 'Deaths8',\n",
       " 'Deaths9',\n",
       " 'Deaths10',\n",
       " 'Deaths11',\n",
       " 'Deaths12',\n",
       " 'Deaths13',\n",
       " 'Deaths14',\n",
       " 'Deaths15',\n",
       " 'Deaths16',\n",
       " 'Deaths17',\n",
       " 'Deaths18',\n",
       " 'Deaths19',\n",
       " 'Deaths20',\n",
       " 'Deaths21',\n",
       " 'Deaths22',\n",
       " 'Deaths23',\n",
       " 'Deaths24',\n",
       " 'Deaths25',\n",
       " 'Deaths26',\n",
       " 'IM_Deaths1',\n",
       " 'IM_Deaths2',\n",
       " 'IM_Deaths3',\n",
       " 'IM_Deaths4']"
      ]
     },
     "execution_count": 7,
     "metadata": {},
     "output_type": "execute_result"
    }
   ],
   "source": [
    "df.columns"
   ]
  },
  {
   "cell_type": "code",
   "execution_count": 8,
   "metadata": {},
   "outputs": [
    {
     "name": "stdout",
     "output_type": "stream",
     "text": [
      "+-------+------+------+----+----+-----+---+-----+--------+-------+-------+-------+-------+-------+-------+-------+-------+-------+--------+--------+--------+--------+--------+--------+--------+--------+--------+--------+--------+--------+--------+--------+--------+--------+--------+----------+----------+----------+----------+\n",
      "|Country|Admin1|SubDiv|Year|List|Cause|Sex|Frmat|IM_Frmat|Deaths1|Deaths2|Deaths3|Deaths4|Deaths5|Deaths6|Deaths7|Deaths8|Deaths9|Deaths10|Deaths11|Deaths12|Deaths13|Deaths14|Deaths15|Deaths16|Deaths17|Deaths18|Deaths19|Deaths20|Deaths21|Deaths22|Deaths23|Deaths24|Deaths25|Deaths26|IM_Deaths1|IM_Deaths2|IM_Deaths3|IM_Deaths4|\n",
      "+-------+------+------+----+----+-----+---+-----+--------+-------+-------+-------+-------+-------+-------+-------+-------+-------+--------+--------+--------+--------+--------+--------+--------+--------+--------+--------+--------+--------+--------+--------+--------+--------+--------+----------+----------+----------+----------+\n",
      "|   1400|  null|  null|2001| 101| 1000|  1|    7|       8|    332|      8|      2|   null|   null|   null|      1|   null|      9|    null|      21|    null|      36|    null|      39|    null|      53|    null|      68|    null|      95|    null|    null|    null|    null|       0|         8|      null|      null|      null|\n",
      "|   1400|  null|  null|2001| 101| 1000|  2|    7|       8|    222|     11|      1|   null|   null|   null|      1|   null|      1|    null|       2|    null|      12|    null|      13|    null|      21|    null|      48|    null|     112|    null|    null|    null|    null|       0|        11|      null|      null|      null|\n",
      "|   1400|  null|  null|2001| 101| 1001|  1|    7|       8|     24|      0|      0|   null|   null|   null|      0|   null|      1|    null|       3|    null|       7|    null|       2|    null|       3|    null|       3|    null|       5|    null|    null|    null|    null|       0|         0|      null|      null|      null|\n",
      "|   1400|  null|  null|2001| 101| 1001|  2|    7|       8|     14|      0|      0|   null|   null|   null|      0|   null|      0|    null|       0|    null|       3|    null|       1|    null|       4|    null|       0|    null|       6|    null|    null|    null|    null|       0|         0|      null|      null|      null|\n",
      "|   1400|  null|  null|2001| 101| 1002|  1|    7|       8|      0|      0|      0|   null|   null|   null|      0|   null|      0|    null|       0|    null|       0|    null|       0|    null|       0|    null|       0|    null|       0|    null|    null|    null|    null|       0|         0|      null|      null|      null|\n",
      "|   1400|  null|  null|2001| 101| 1002|  2|    7|       8|      0|      0|      0|   null|   null|   null|      0|   null|      0|    null|       0|    null|       0|    null|       0|    null|       0|    null|       0|    null|       0|    null|    null|    null|    null|       0|         0|      null|      null|      null|\n",
      "|   1400|  null|  null|2001| 101| 1003|  1|    7|       8|      0|      0|      0|   null|   null|   null|      0|   null|      0|    null|       0|    null|       0|    null|       0|    null|       0|    null|       0|    null|       0|    null|    null|    null|    null|       0|         0|      null|      null|      null|\n",
      "|   1400|  null|  null|2001| 101| 1003|  2|    7|       8|      0|      0|      0|   null|   null|   null|      0|   null|      0|    null|       0|    null|       0|    null|       0|    null|       0|    null|       0|    null|       0|    null|    null|    null|    null|       0|         0|      null|      null|      null|\n",
      "|   1400|  null|  null|2001| 101| 1004|  1|    7|       8|      0|      0|      0|   null|   null|   null|      0|   null|      0|    null|       0|    null|       0|    null|       0|    null|       0|    null|       0|    null|       0|    null|    null|    null|    null|       0|         0|      null|      null|      null|\n",
      "|   1400|  null|  null|2001| 101| 1004|  2|    7|       8|      0|      0|      0|   null|   null|   null|      0|   null|      0|    null|       0|    null|       0|    null|       0|    null|       0|    null|       0|    null|       0|    null|    null|    null|    null|       0|         0|      null|      null|      null|\n",
      "+-------+------+------+----+----+-----+---+-----+--------+-------+-------+-------+-------+-------+-------+-------+-------+-------+--------+--------+--------+--------+--------+--------+--------+--------+--------+--------+--------+--------+--------+--------+--------+--------+--------+----------+----------+----------+----------+\n",
      "only showing top 10 rows\n",
      "\n"
     ]
    }
   ],
   "source": [
    "df.createOrReplaceTempView(\"mortality\")\n",
    "df.show(10)"
   ]
  },
  {
   "cell_type": "markdown",
   "metadata": {},
   "source": [
    "Country and disease causes codes to join our initial data "
   ]
  },
  {
   "cell_type": "code",
   "execution_count": 9,
   "metadata": {},
   "outputs": [
    {
     "name": "stdout",
     "output_type": "stream",
     "text": [
      "+-------+--------------------+\n",
      "|country|                name|\n",
      "+-------+--------------------+\n",
      "|   1010|             Algeria|\n",
      "|   1020|              Angola|\n",
      "|   1025|               Benin|\n",
      "|   1030|            Botswana|\n",
      "|   1035|        Burkina Faso|\n",
      "|   1040|             Burundi|\n",
      "|   1045|            Cameroon|\n",
      "|   1060|          Cape Verde|\n",
      "|   1070|Central African R...|\n",
      "|   1080|                Chad|\n",
      "+-------+--------------------+\n",
      "only showing top 10 rows\n",
      "\n"
     ]
    }
   ],
   "source": [
    "df_country = spark.read.csv(f\"data/country_codes.csv\",header=True, inferSchema=True)\n",
    "df_country.createOrReplaceTempView(\"country_codes\")\n",
    "df_country.show(10)"
   ]
  },
  {
   "cell_type": "markdown",
   "metadata": {},
   "source": [
    "I need to filter and unpivot the datasource for a more confortable use"
   ]
  },
  {
   "cell_type": "code",
   "execution_count": 10,
   "metadata": {},
   "outputs": [
    {
     "name": "stdout",
     "output_type": "stream",
     "text": [
      "+----+---+-------+-----+--------+------------+\n",
      "|year|sex|country|cause|     age|count_deaths|\n",
      "+----+---+-------+-----+--------+------------+\n",
      "|2010|  1|   1400| 1000| Deaths1|         363|\n",
      "|2010|  1|   1400| 1000| Deaths2|          12|\n",
      "|2010|  1|   1400| 1000| Deaths3|           0|\n",
      "|2010|  1|   1400| 1000| Deaths4|        null|\n",
      "|2010|  1|   1400| 1000| Deaths5|        null|\n",
      "|2010|  1|   1400| 1000| Deaths6|        null|\n",
      "|2010|  1|   1400| 1000| Deaths7|           0|\n",
      "|2010|  1|   1400| 1000| Deaths8|        null|\n",
      "|2010|  1|   1400| 1000| Deaths9|           6|\n",
      "|2010|  1|   1400| 1000|Deaths10|        null|\n",
      "|2010|  1|   1400| 1000|Deaths11|          21|\n",
      "|2010|  1|   1400| 1000|Deaths12|        null|\n",
      "|2010|  1|   1400| 1000|Deaths13|          28|\n",
      "|2010|  1|   1400| 1000|Deaths14|        null|\n",
      "|2010|  1|   1400| 1000|Deaths15|          51|\n",
      "|2010|  1|   1400| 1000|Deaths16|        null|\n",
      "|2010|  1|   1400| 1000|Deaths17|          62|\n",
      "|2010|  1|   1400| 1000|Deaths18|        null|\n",
      "|2010|  1|   1400| 1000|Deaths19|          75|\n",
      "|2010|  1|   1400| 1000|Deaths20|        null|\n",
      "+----+---+-------+-----+--------+------------+\n",
      "only showing top 20 rows\n",
      "\n"
     ]
    }
   ],
   "source": [
    "query = \"\"\"\n",
    "select \n",
    "    year,\n",
    "    sex,\n",
    "    country,\n",
    "    cause,\n",
    "    stack(30,\n",
    "            'Deaths1',Deaths1,\n",
    "            'Deaths2',Deaths2,\n",
    "            'Deaths3',Deaths3,\n",
    "            'Deaths4',Deaths4,\n",
    "            'Deaths5',Deaths5,\n",
    "            'Deaths6',Deaths6,\n",
    "            'Deaths7',Deaths7,\n",
    "            'Deaths8',Deaths8,\n",
    "            'Deaths9',Deaths9,\n",
    "            'Deaths10',Deaths10,\n",
    "            'Deaths11',Deaths11,\n",
    "            'Deaths12',Deaths12,\n",
    "            'Deaths13',Deaths13,\n",
    "            'Deaths14',Deaths14,\n",
    "            'Deaths15',Deaths15,\n",
    "            'Deaths16',Deaths16,\n",
    "            'Deaths17',Deaths17,\n",
    "            'Deaths18',Deaths18,\n",
    "            'Deaths19',Deaths19,\n",
    "            'Deaths20',Deaths20,\n",
    "            'Deaths21',Deaths21,\n",
    "            'Deaths22',Deaths22,\n",
    "            'Deaths23',Deaths23,\n",
    "            'Deaths24',Deaths24,\n",
    "            'Deaths25',Deaths25,\n",
    "            'Deaths26',Deaths26,\n",
    "            'IM_Deaths1',IM_Deaths1,\n",
    "            'IM_Deaths2',IM_Deaths2,\n",
    "            'IM_Deaths3',IM_Deaths3,\n",
    "            'IM_Deaths4',IM_Deaths4\n",
    "            ) as (age,count_deaths)\n",
    "    from mortality\n",
    "    where year >= '2010'\n",
    "    \"\"\"\n",
    "\n",
    "df_mortality = spark.sql(query)\n",
    "df_mortality.show()"
   ]
  },
  {
   "cell_type": "code",
   "execution_count": 11,
   "metadata": {},
   "outputs": [],
   "source": [
    "df_mortality.createOrReplaceTempView(\"mortality_final\")"
   ]
  },
  {
   "cell_type": "code",
   "execution_count": 12,
   "metadata": {},
   "outputs": [
    {
     "name": "stdout",
     "output_type": "stream",
     "text": [
      "+----+-----------------+\n",
      "|year|sum(count_deaths)|\n",
      "+----+-----------------+\n",
      "|2012|         40309512|\n",
      "|2010|         41544392|\n",
      "|2011|         41040152|\n",
      "|2015|         42103048|\n",
      "|2013|         39123894|\n",
      "|2014|         42610327|\n",
      "|2016|         40957519|\n",
      "|2018|         38348769|\n",
      "|2019|         37369230|\n",
      "|2020|          9237454|\n",
      "|2017|         39406145|\n",
      "+----+-----------------+\n",
      "\n"
     ]
    }
   ],
   "source": [
    "spark.sql(\"\"\"select year, \n",
    "            sum(count_deaths) \n",
    "            from mortality_final \n",
    "            where age != 'Deaths1' \n",
    "            group by year\"\"\").show()"
   ]
  },
  {
   "cell_type": "markdown",
   "metadata": {},
   "source": [
    "I had to hardcode field decodings from documentation since there's no datasources available with this data\n",
    "1) See the documentation from WHO\n",
    "2) http://www.wolfbane.com/icd/icd10a1.htm for the codes I didn't had"
   ]
  },
  {
   "cell_type": "code",
   "execution_count": 13,
   "metadata": {},
   "outputs": [
    {
     "name": "stdout",
     "output_type": "stream",
     "text": [
      "+----+------+-------+----------------+--------+-----------+------------+\n",
      "|year|   sex|country|cause_death_code|     age|  age_range|count_deaths|\n",
      "+----+------+-------+----------------+--------+-----------+------------+\n",
      "|2010|  Male|Belarus|            1095| Deaths9|15-19 years|         251|\n",
      "|2010|  Male|Belarus|            1095|Deaths10|20-24 years|         617|\n",
      "|2010|  Male|Belarus|            1095|Deaths11|25-29 years|         678|\n",
      "|2010|  Male|Belarus|            1095|Deaths12|30-34 years|         809|\n",
      "|2010|  Male|Belarus|            1095|Deaths13|35-39 years|         962|\n",
      "|2010|  Male|Belarus|            1095|Deaths14|40-44 years|        1122|\n",
      "|2010|  Male|Belarus|            1095|Deaths15|45-49 years|        1486|\n",
      "|2010|  Male|Belarus|            1095|Deaths16|50-54 years|        1625|\n",
      "|2010|  Male|Belarus|            1095|Deaths17|55-59 years|        1190|\n",
      "|2010|  Male|Belarus|            1095|Deaths18|60-64 years|         932|\n",
      "|2010|  Male|Belarus|            1095|Deaths19|65-69 years|         467|\n",
      "|2010|  Male|Belarus|            1095|Deaths20|70-74 years|         475|\n",
      "|2010|  Male|Belarus|            1095|Deaths21|75-79 years|         259|\n",
      "|2010|  Male|Belarus|            1095|Deaths22|80-84 years|         176|\n",
      "|2010|Female|Belarus|            1095|Deaths11|25-29 years|         121|\n",
      "|2010|Female|Belarus|            1095|Deaths12|30-34 years|         151|\n",
      "|2010|Female|Belarus|            1095|Deaths13|35-39 years|         194|\n",
      "|2010|Female|Belarus|            1095|Deaths14|40-44 years|         205|\n",
      "|2010|Female|Belarus|            1095|Deaths15|45-49 years|         291|\n",
      "|2010|Female|Belarus|            1095|Deaths16|50-54 years|         354|\n",
      "+----+------+-------+----------------+--------+-----------+------------+\n",
      "only showing top 20 rows\n",
      "\n"
     ]
    }
   ],
   "source": [
    "query = \"\"\"\n",
    "    select  \n",
    "    m.year,\n",
    "    case when m.sex = 1 then 'Male'\n",
    "        when m.sex = 2 then 'Female'\n",
    "        else 'No Data'\n",
    "        end as sex,\n",
    "    c.name as country,\n",
    "    m.cause as cause_death_code,\n",
    "    m.age,\n",
    "    case \n",
    "        when m.age = 'Deaths1' then 'All ages'\n",
    "        when m.age = 'Deaths2' then '0 year'\n",
    "        when m.age = 'Deaths3' then '1 year'\n",
    "        when m.age = 'Deaths4' then '2 years'\n",
    "        when m.age = 'Deaths5' then '3 years'\n",
    "        when m.age = 'Deaths6' then '4 years'\n",
    "        when m.age = 'Deaths7' then '5-9 years'\n",
    "        when m.age = 'Deaths8' then '10-14 years'\n",
    "        when m.age = 'Deaths9' then '15-19 years'\n",
    "        when m.age = 'Deaths10' then '20-24 years'\n",
    "        when m.age = 'Deaths11' then '25-29 years'\n",
    "        when m.age = 'Deaths12' then '30-34 years'\n",
    "        when m.age = 'Deaths13' then '35-39 years'\n",
    "        when m.age = 'Deaths14' then '40-44 years'\n",
    "        when m.age = 'Deaths15' then '45-49 years'\n",
    "        when m.age = 'Deaths16' then '50-54 years'\n",
    "        when m.age = 'Deaths17' then '55-59 years'\n",
    "        when m.age = 'Deaths18' then '60-64 years'\n",
    "        when m.age = 'Deaths19' then '65-69 years'\n",
    "        when m.age = 'Deaths20' then '70-74 years'\n",
    "        when m.age = 'Deaths21' then '75-79 years'\n",
    "        when m.age = 'Deaths22' then '80-84 years'\n",
    "        when m.age = 'Deaths23' then '85-89 years'\n",
    "        when m.age = 'Deaths24' then '90-94 years'\n",
    "        when m.age = 'Deaths25' then '95 years and above' \n",
    "        when m.age = 'Deaths26' then 'Unspecified'\n",
    "        when m.age = 'IM_deaths1' then 'Infant 0 day'\n",
    "        when m.age = 'IM_deaths2' then 'Infant 1-6 days'\n",
    "        when m.age = 'IM_deaths3' then 'Infant 7-27 days'\n",
    "        when m.age = 'IM_deaths4' then 'Infant 28-364 days'\n",
    "        end as age_range,\n",
    "    coalesce(m.count_deaths,0) as count_deaths\n",
    "    from mortality_final m\n",
    "    left join country_codes c \n",
    "    on m.country = c.country\n",
    "    where m.age != 'Deaths1'\n",
    "    and ( substr(m.cause,1,1) in ('V','W','X','Y')\n",
    "    or m.cause in ('1095','1096','1097','1098','1099','1100','1101','1102','1103'))\n",
    "    and m.count_deaths >= 100\n",
    "    \"\"\"\n",
    "\n",
    "df_final = spark.sql(query)\n",
    "df_final.createOrReplaceTempView(\"final\")\n",
    "df_final.show()"
   ]
  },
  {
   "cell_type": "code",
   "execution_count": 14,
   "metadata": {},
   "outputs": [
    {
     "name": "stdout",
     "output_type": "stream",
     "text": [
      "+--------+\n",
      "|count(1)|\n",
      "+--------+\n",
      "|   20971|\n",
      "+--------+\n",
      "\n"
     ]
    }
   ],
   "source": [
    "df_final.createOrReplaceTempView(\"final_table\")\n",
    "spark.sql(\"\"\"select count(*) from final_table\"\"\").show()"
   ]
  },
  {
   "cell_type": "code",
   "execution_count": 15,
   "metadata": {},
   "outputs": [
    {
     "name": "stdout",
     "output_type": "stream",
     "text": [
      "+------------------------------+--------+\n",
      "|substr(cause_death_code, 1, 1)|count(1)|\n",
      "+------------------------------+--------+\n",
      "|                             Y|    1439|\n",
      "|                             V|    3243|\n",
      "|                             X|    8542|\n",
      "|                             W|    3592|\n",
      "|                             1|    4155|\n",
      "+------------------------------+--------+\n",
      "\n"
     ]
    }
   ],
   "source": [
    "spark.sql(\"select  substr(cause_death_code,1,1), count(*) from final_table group by substr(cause_death_code,1,1)\").show()"
   ]
  },
  {
   "cell_type": "markdown",
   "metadata": {},
   "source": [
    "Save .csv to use in Tableau :D"
   ]
  },
  {
   "cell_type": "code",
   "execution_count": 16,
   "metadata": {},
   "outputs": [],
   "source": [
    "df_final.toPandas().to_csv(\"data/External_mortality_causes.csv\")"
   ]
  }
 ],
 "metadata": {
  "kernelspec": {
   "display_name": "Python 3.10.4 64-bit",
   "language": "python",
   "name": "python3"
  },
  "language_info": {
   "codemirror_mode": {
    "name": "ipython",
    "version": 3
   },
   "file_extension": ".py",
   "mimetype": "text/x-python",
   "name": "python",
   "nbconvert_exporter": "python",
   "pygments_lexer": "ipython3",
   "version": "3.10.4"
  },
  "orig_nbformat": 4,
  "vscode": {
   "interpreter": {
    "hash": "fc88cfb31fdd9157922bc96eecf9150a6a78f705ecfb4c5ff6d7b81ac6457725"
   }
  }
 },
 "nbformat": 4,
 "nbformat_minor": 2
}
